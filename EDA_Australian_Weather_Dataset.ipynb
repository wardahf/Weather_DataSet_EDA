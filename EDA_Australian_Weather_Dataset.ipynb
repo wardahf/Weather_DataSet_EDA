{
 "cells": [
  {
   "cell_type": "code",
   "execution_count": 1,
   "id": "d9bb229c",
   "metadata": {},
   "outputs": [],
   "source": [
    "import pandas as pd\n",
    "import numpy as np\n",
    "import matplotlib.pyplot as plt\n",
    "import seaborn as sb\n",
    "import warnings\n",
    "warnings.filterwarnings(\"ignore\")"
   ]
  },
  {
   "cell_type": "code",
   "execution_count": 2,
   "id": "c04c15fd",
   "metadata": {},
   "outputs": [],
   "source": [
    "data=pd.read_csv('https://raw.githubusercontent.com/tkseneee/Dataset/master/credit-default.csv')"
   ]
  },
  {
   "cell_type": "code",
   "execution_count": 3,
   "id": "5e0b9d9b",
   "metadata": {},
   "outputs": [
    {
     "data": {
      "text/html": [
       "<div>\n",
       "<style scoped>\n",
       "    .dataframe tbody tr th:only-of-type {\n",
       "        vertical-align: middle;\n",
       "    }\n",
       "\n",
       "    .dataframe tbody tr th {\n",
       "        vertical-align: top;\n",
       "    }\n",
       "\n",
       "    .dataframe thead th {\n",
       "        text-align: right;\n",
       "    }\n",
       "</style>\n",
       "<table border=\"1\" class=\"dataframe\">\n",
       "  <thead>\n",
       "    <tr style=\"text-align: right;\">\n",
       "      <th></th>\n",
       "      <th>checking_balance</th>\n",
       "      <th>months_loan_duration</th>\n",
       "      <th>credit_history</th>\n",
       "      <th>purpose</th>\n",
       "      <th>amount</th>\n",
       "      <th>savings_balance</th>\n",
       "      <th>employment_length</th>\n",
       "      <th>installment_rate</th>\n",
       "      <th>personal_status</th>\n",
       "      <th>other_debtors</th>\n",
       "      <th>...</th>\n",
       "      <th>property</th>\n",
       "      <th>age</th>\n",
       "      <th>installment_plan</th>\n",
       "      <th>housing</th>\n",
       "      <th>existing_credits</th>\n",
       "      <th>default</th>\n",
       "      <th>dependents</th>\n",
       "      <th>telephone</th>\n",
       "      <th>foreign_worker</th>\n",
       "      <th>job</th>\n",
       "    </tr>\n",
       "  </thead>\n",
       "  <tbody>\n",
       "    <tr>\n",
       "      <th>0</th>\n",
       "      <td>&lt; 0 DM</td>\n",
       "      <td>6</td>\n",
       "      <td>critical</td>\n",
       "      <td>radio/tv</td>\n",
       "      <td>1169</td>\n",
       "      <td>unknown</td>\n",
       "      <td>&gt; 7 yrs</td>\n",
       "      <td>4</td>\n",
       "      <td>single male</td>\n",
       "      <td>none</td>\n",
       "      <td>...</td>\n",
       "      <td>real estate</td>\n",
       "      <td>67</td>\n",
       "      <td>none</td>\n",
       "      <td>own</td>\n",
       "      <td>2</td>\n",
       "      <td>1</td>\n",
       "      <td>1</td>\n",
       "      <td>yes</td>\n",
       "      <td>yes</td>\n",
       "      <td>skilled employee</td>\n",
       "    </tr>\n",
       "    <tr>\n",
       "      <th>1</th>\n",
       "      <td>1 - 200 DM</td>\n",
       "      <td>48</td>\n",
       "      <td>repaid</td>\n",
       "      <td>radio/tv</td>\n",
       "      <td>5951</td>\n",
       "      <td>&lt; 100 DM</td>\n",
       "      <td>1 - 4 yrs</td>\n",
       "      <td>2</td>\n",
       "      <td>female</td>\n",
       "      <td>none</td>\n",
       "      <td>...</td>\n",
       "      <td>real estate</td>\n",
       "      <td>22</td>\n",
       "      <td>none</td>\n",
       "      <td>own</td>\n",
       "      <td>1</td>\n",
       "      <td>2</td>\n",
       "      <td>1</td>\n",
       "      <td>none</td>\n",
       "      <td>yes</td>\n",
       "      <td>skilled employee</td>\n",
       "    </tr>\n",
       "  </tbody>\n",
       "</table>\n",
       "<p>2 rows × 21 columns</p>\n",
       "</div>"
      ],
      "text/plain": [
       "  checking_balance  months_loan_duration credit_history   purpose  amount  \\\n",
       "0           < 0 DM                     6       critical  radio/tv    1169   \n",
       "1       1 - 200 DM                    48         repaid  radio/tv    5951   \n",
       "\n",
       "  savings_balance employment_length  installment_rate personal_status  \\\n",
       "0         unknown           > 7 yrs                 4     single male   \n",
       "1        < 100 DM         1 - 4 yrs                 2          female   \n",
       "\n",
       "  other_debtors  ...     property age  installment_plan housing  \\\n",
       "0          none  ...  real estate  67              none     own   \n",
       "1          none  ...  real estate  22              none     own   \n",
       "\n",
       "  existing_credits  default  dependents  telephone foreign_worker  \\\n",
       "0                2        1           1        yes            yes   \n",
       "1                1        2           1       none            yes   \n",
       "\n",
       "                job  \n",
       "0  skilled employee  \n",
       "1  skilled employee  \n",
       "\n",
       "[2 rows x 21 columns]"
      ]
     },
     "execution_count": 3,
     "metadata": {},
     "output_type": "execute_result"
    }
   ],
   "source": [
    "data.head(2)"
   ]
  },
  {
   "cell_type": "code",
   "execution_count": 4,
   "id": "ac601f49",
   "metadata": {},
   "outputs": [
    {
     "data": {
      "text/plain": [
       "checking_balance        0\n",
       "months_loan_duration    0\n",
       "credit_history          0\n",
       "purpose                 0\n",
       "amount                  0\n",
       "savings_balance         0\n",
       "employment_length       0\n",
       "installment_rate        0\n",
       "personal_status         0\n",
       "other_debtors           0\n",
       "residence_history       0\n",
       "property                0\n",
       "age                     0\n",
       "installment_plan        0\n",
       "housing                 0\n",
       "existing_credits        0\n",
       "default                 0\n",
       "dependents              0\n",
       "telephone               0\n",
       "foreign_worker          0\n",
       "job                     0\n",
       "dtype: int64"
      ]
     },
     "execution_count": 4,
     "metadata": {},
     "output_type": "execute_result"
    }
   ],
   "source": [
    "data.isnull().sum()"
   ]
  },
  {
   "cell_type": "code",
   "execution_count": 5,
   "id": "a5b7353e",
   "metadata": {},
   "outputs": [],
   "source": [
    "#There are no missing values"
   ]
  },
  {
   "cell_type": "code",
   "execution_count": 6,
   "id": "bad12f87",
   "metadata": {},
   "outputs": [],
   "source": [
    "num_data=data.select_dtypes(include=np.number)\n",
    "cat_data=data.select_dtypes(exclude=np.number)"
   ]
  },
  {
   "cell_type": "code",
   "execution_count": 7,
   "id": "48138aa5",
   "metadata": {},
   "outputs": [
    {
     "data": {
      "text/plain": [
       "checking_balance        object\n",
       "months_loan_duration     int64\n",
       "credit_history          object\n",
       "purpose                 object\n",
       "amount                   int64\n",
       "savings_balance         object\n",
       "employment_length       object\n",
       "installment_rate         int64\n",
       "personal_status         object\n",
       "other_debtors           object\n",
       "residence_history        int64\n",
       "property                object\n",
       "age                      int64\n",
       "installment_plan        object\n",
       "housing                 object\n",
       "existing_credits         int64\n",
       "default                  int64\n",
       "dependents               int64\n",
       "telephone               object\n",
       "foreign_worker          object\n",
       "job                     object\n",
       "dtype: object"
      ]
     },
     "execution_count": 7,
     "metadata": {},
     "output_type": "execute_result"
    }
   ],
   "source": [
    "data.dtypes"
   ]
  },
  {
   "cell_type": "code",
   "execution_count": 8,
   "id": "717b4b6c",
   "metadata": {},
   "outputs": [
    {
     "data": {
      "text/html": [
       "<div>\n",
       "<style scoped>\n",
       "    .dataframe tbody tr th:only-of-type {\n",
       "        vertical-align: middle;\n",
       "    }\n",
       "\n",
       "    .dataframe tbody tr th {\n",
       "        vertical-align: top;\n",
       "    }\n",
       "\n",
       "    .dataframe thead th {\n",
       "        text-align: right;\n",
       "    }\n",
       "</style>\n",
       "<table border=\"1\" class=\"dataframe\">\n",
       "  <thead>\n",
       "    <tr style=\"text-align: right;\">\n",
       "      <th></th>\n",
       "      <th>checking_balance</th>\n",
       "      <th>credit_history</th>\n",
       "      <th>purpose</th>\n",
       "      <th>savings_balance</th>\n",
       "      <th>employment_length</th>\n",
       "      <th>personal_status</th>\n",
       "      <th>other_debtors</th>\n",
       "      <th>property</th>\n",
       "      <th>installment_plan</th>\n",
       "      <th>housing</th>\n",
       "      <th>telephone</th>\n",
       "      <th>foreign_worker</th>\n",
       "      <th>job</th>\n",
       "    </tr>\n",
       "  </thead>\n",
       "  <tbody>\n",
       "    <tr>\n",
       "      <th>0</th>\n",
       "      <td>&lt; 0 DM</td>\n",
       "      <td>critical</td>\n",
       "      <td>radio/tv</td>\n",
       "      <td>unknown</td>\n",
       "      <td>&gt; 7 yrs</td>\n",
       "      <td>single male</td>\n",
       "      <td>none</td>\n",
       "      <td>real estate</td>\n",
       "      <td>none</td>\n",
       "      <td>own</td>\n",
       "      <td>yes</td>\n",
       "      <td>yes</td>\n",
       "      <td>skilled employee</td>\n",
       "    </tr>\n",
       "    <tr>\n",
       "      <th>1</th>\n",
       "      <td>1 - 200 DM</td>\n",
       "      <td>repaid</td>\n",
       "      <td>radio/tv</td>\n",
       "      <td>&lt; 100 DM</td>\n",
       "      <td>1 - 4 yrs</td>\n",
       "      <td>female</td>\n",
       "      <td>none</td>\n",
       "      <td>real estate</td>\n",
       "      <td>none</td>\n",
       "      <td>own</td>\n",
       "      <td>none</td>\n",
       "      <td>yes</td>\n",
       "      <td>skilled employee</td>\n",
       "    </tr>\n",
       "  </tbody>\n",
       "</table>\n",
       "</div>"
      ],
      "text/plain": [
       "  checking_balance credit_history   purpose savings_balance employment_length  \\\n",
       "0           < 0 DM       critical  radio/tv         unknown           > 7 yrs   \n",
       "1       1 - 200 DM         repaid  radio/tv        < 100 DM         1 - 4 yrs   \n",
       "\n",
       "  personal_status other_debtors     property installment_plan housing  \\\n",
       "0     single male          none  real estate             none     own   \n",
       "1          female          none  real estate             none     own   \n",
       "\n",
       "  telephone foreign_worker               job  \n",
       "0       yes            yes  skilled employee  \n",
       "1      none            yes  skilled employee  "
      ]
     },
     "execution_count": 8,
     "metadata": {},
     "output_type": "execute_result"
    }
   ],
   "source": [
    "cat_data.head(2)"
   ]
  },
  {
   "cell_type": "code",
   "execution_count": 9,
   "id": "b4918602",
   "metadata": {},
   "outputs": [
    {
     "data": {
      "text/plain": [
       "array(['< 0 DM', '1 - 200 DM', 'unknown', '> 200 DM'], dtype=object)"
      ]
     },
     "execution_count": 9,
     "metadata": {},
     "output_type": "execute_result"
    }
   ],
   "source": [
    "#Encoding\n",
    "data['checking_balance'].unique()"
   ]
  },
  {
   "cell_type": "code",
   "execution_count": 10,
   "id": "5fe50ce4",
   "metadata": {},
   "outputs": [],
   "source": [
    "\n",
    "data['checking_balance']=data['checking_balance'].replace({'unknown':np.nan})"
   ]
  },
  {
   "cell_type": "code",
   "execution_count": 11,
   "id": "0e49d01a",
   "metadata": {},
   "outputs": [
    {
     "data": {
      "text/plain": [
       "checking_balance\n",
       "1 - 200 DM    3827.561338\n",
       "< 0 DM        3175.218978\n",
       "> 200 DM      2177.650794\n",
       "Name: amount, dtype: float64"
      ]
     },
     "execution_count": 11,
     "metadata": {},
     "output_type": "execute_result"
    }
   ],
   "source": [
    "# imputing null values in data['checking_balance']\n",
    "data.groupby(['checking_balance'])['amount'].mean()"
   ]
  },
  {
   "cell_type": "code",
   "execution_count": 12,
   "id": "78a87a31",
   "metadata": {},
   "outputs": [],
   "source": [
    "ind=data[data['checking_balance'].isnull()].index\n",
    "for i in ind:\n",
    "    if data.loc[i,'amount']>3700:\n",
    "        data.loc[i,'checking_balance']='1 - 200 DM'\n",
    "    elif data.loc[i,'amount']<2200:\n",
    "        data.loc[i,'checking_balance']='> 200 DM'\n",
    "    else:\n",
    "        data.loc[i,'checking_balance']='< 0 DM'"
   ]
  },
  {
   "cell_type": "code",
   "execution_count": 13,
   "id": "5746281f",
   "metadata": {},
   "outputs": [
    {
     "data": {
      "text/plain": [
       "checking_balance        0\n",
       "months_loan_duration    0\n",
       "credit_history          0\n",
       "purpose                 0\n",
       "amount                  0\n",
       "savings_balance         0\n",
       "employment_length       0\n",
       "installment_rate        0\n",
       "personal_status         0\n",
       "other_debtors           0\n",
       "residence_history       0\n",
       "property                0\n",
       "age                     0\n",
       "installment_plan        0\n",
       "housing                 0\n",
       "existing_credits        0\n",
       "default                 0\n",
       "dependents              0\n",
       "telephone               0\n",
       "foreign_worker          0\n",
       "job                     0\n",
       "dtype: int64"
      ]
     },
     "execution_count": 13,
     "metadata": {},
     "output_type": "execute_result"
    }
   ],
   "source": [
    "data['checking_balance'].unique()\n",
    "data.isnull().sum()"
   ]
  },
  {
   "cell_type": "code",
   "execution_count": 14,
   "id": "a30c826b",
   "metadata": {},
   "outputs": [
    {
     "data": {
      "text/plain": [
       "array(['unknown', '< 100 DM', '501 - 1000 DM', '> 1000 DM',\n",
       "       '101 - 500 DM'], dtype=object)"
      ]
     },
     "execution_count": 14,
     "metadata": {},
     "output_type": "execute_result"
    }
   ],
   "source": [
    "data['savings_balance'].unique()"
   ]
  },
  {
   "cell_type": "code",
   "execution_count": 15,
   "id": "2c52e459",
   "metadata": {},
   "outputs": [],
   "source": [
    "\n",
    "data['savings_balance']=data['savings_balance'].replace({'unknown':np.nan})                                                      "
   ]
  },
  {
   "cell_type": "code",
   "execution_count": 16,
   "id": "08995588",
   "metadata": {},
   "outputs": [
    {
     "data": {
      "text/plain": [
       "array([nan, '< 100 DM', '501 - 1000 DM', '> 1000 DM', '101 - 500 DM'],\n",
       "      dtype=object)"
      ]
     },
     "execution_count": 16,
     "metadata": {},
     "output_type": "execute_result"
    }
   ],
   "source": [
    "data['savings_balance'].unique()"
   ]
  },
  {
   "cell_type": "code",
   "execution_count": 17,
   "id": "d0eeb5b5",
   "metadata": {},
   "outputs": [
    {
     "data": {
      "text/plain": [
       "savings_balance\n",
       "101 - 500 DM     3384.038835\n",
       "501 - 1000 DM    2572.111111\n",
       "< 100 DM         3187.832504\n",
       "> 1000 DM        2573.395833\n",
       "Name: amount, dtype: float64"
      ]
     },
     "execution_count": 17,
     "metadata": {},
     "output_type": "execute_result"
    }
   ],
   "source": [
    "data.groupby(['savings_balance'])['amount'].mean()"
   ]
  },
  {
   "cell_type": "code",
   "execution_count": 18,
   "id": "c5a4b3a0",
   "metadata": {},
   "outputs": [],
   "source": [
    "ind=data[data['savings_balance'].isnull()].index\n",
    "for i in ind:\n",
    "    if data.loc[i,'amount']>3400:\n",
    "        data.loc[i,'savings_balance']='101 - 500 DM'\n",
    "    elif data.loc[i,'amount']<2600:\n",
    "        data.loc[i,'savings_balance']='501 - 1000 DM'\n",
    "    elif ((data.loc[i,'amount']>3000)& ( data.loc[i,'amount']<3400)):\n",
    "        data.loc[i,'savings_balance']='< 100 DM'    \n",
    "    else:\n",
    "        data.loc[i,'savings_balance']='> 1000 DM'"
   ]
  },
  {
   "cell_type": "code",
   "execution_count": 19,
   "id": "fa71ef83",
   "metadata": {},
   "outputs": [
    {
     "data": {
      "text/plain": [
       "0"
      ]
     },
     "execution_count": 19,
     "metadata": {},
     "output_type": "execute_result"
    }
   ],
   "source": [
    "data['savings_balance'].isnull().sum()"
   ]
  },
  {
   "cell_type": "code",
   "execution_count": 20,
   "id": "b7f7a536",
   "metadata": {},
   "outputs": [
    {
     "data": {
      "text/plain": [
       "array(['> 7 yrs', '1 - 4 yrs', '4 - 7 yrs', 'unemployed', '0 - 1 yrs'],\n",
       "      dtype=object)"
      ]
     },
     "execution_count": 20,
     "metadata": {},
     "output_type": "execute_result"
    }
   ],
   "source": [
    "data['employment_length'].unique()"
   ]
  },
  {
   "cell_type": "code",
   "execution_count": 21,
   "id": "feef2b7d",
   "metadata": {},
   "outputs": [],
   "source": [
    "data['savings_balance']=data['savings_balance'].replace({'< 100 DM':0,'101 - 500 DM':1,'501 - 1000 DM':2,'> 1000 DM':3})\n",
    "data['checking_balance']=data['checking_balance'].replace({'< 0 DM':0,'1 - 200 DM':1,'> 200 DM':2})\n"
   ]
  },
  {
   "cell_type": "code",
   "execution_count": 22,
   "id": "14374080",
   "metadata": {},
   "outputs": [],
   "source": [
    "data['employment_length']=data['employment_length'].replace({'unemployed':0,'0 - 1 yrs':1,'1 - 4 yrs':2,'4 - 7 yrs':3,\n",
    "                                                           '> 7 yrs':4 })"
   ]
  },
  {
   "cell_type": "code",
   "execution_count": 23,
   "id": "6e41c2ce",
   "metadata": {},
   "outputs": [
    {
     "data": {
      "text/plain": [
       "array(['radio/tv', 'education', 'furniture', 'car (new)', 'car (used)',\n",
       "       'business', 'domestic appliances', 'repairs', 'others',\n",
       "       'retraining'], dtype=object)"
      ]
     },
     "execution_count": 23,
     "metadata": {},
     "output_type": "execute_result"
    }
   ],
   "source": [
    "data['purpose'].unique()"
   ]
  },
  {
   "cell_type": "code",
   "execution_count": 24,
   "id": "54f4e56b",
   "metadata": {},
   "outputs": [
    {
     "data": {
      "text/plain": [
       "array(['real estate', 'building society savings', 'unknown/none', 'other'],\n",
       "      dtype=object)"
      ]
     },
     "execution_count": 24,
     "metadata": {},
     "output_type": "execute_result"
    }
   ],
   "source": [
    "data['property'].unique()"
   ]
  },
  {
   "cell_type": "code",
   "execution_count": 25,
   "id": "2f728815",
   "metadata": {},
   "outputs": [
    {
     "data": {
      "text/plain": [
       "array(['skilled employee', 'unskilled resident',\n",
       "       'mangement self-employed', 'unemployed non-resident'], dtype=object)"
      ]
     },
     "execution_count": 25,
     "metadata": {},
     "output_type": "execute_result"
    }
   ],
   "source": [
    "data['job'].unique()"
   ]
  },
  {
   "cell_type": "code",
   "execution_count": 26,
   "id": "791363b9",
   "metadata": {},
   "outputs": [
    {
     "data": {
      "text/plain": [
       "array(['yes', 'none'], dtype=object)"
      ]
     },
     "execution_count": 26,
     "metadata": {},
     "output_type": "execute_result"
    }
   ],
   "source": [
    "data['telephone'].unique()"
   ]
  },
  {
   "cell_type": "code",
   "execution_count": 27,
   "id": "b9930fb3",
   "metadata": {},
   "outputs": [
    {
     "data": {
      "text/plain": [
       "array(['own', 'for free', 'rent'], dtype=object)"
      ]
     },
     "execution_count": 27,
     "metadata": {},
     "output_type": "execute_result"
    }
   ],
   "source": [
    "data['housing'].unique()"
   ]
  },
  {
   "cell_type": "code",
   "execution_count": 28,
   "id": "0749a997",
   "metadata": {},
   "outputs": [
    {
     "data": {
      "text/plain": [
       "array(['yes', 'no'], dtype=object)"
      ]
     },
     "execution_count": 28,
     "metadata": {},
     "output_type": "execute_result"
    }
   ],
   "source": [
    "data['foreign_worker'].unique()"
   ]
  },
  {
   "cell_type": "code",
   "execution_count": 29,
   "id": "94799c81",
   "metadata": {},
   "outputs": [
    {
     "data": {
      "text/plain": [
       "array(['none', 'bank', 'stores'], dtype=object)"
      ]
     },
     "execution_count": 29,
     "metadata": {},
     "output_type": "execute_result"
    }
   ],
   "source": [
    "data['installment_plan'].unique()"
   ]
  },
  {
   "cell_type": "code",
   "execution_count": 30,
   "id": "958198ac",
   "metadata": {},
   "outputs": [
    {
     "data": {
      "text/plain": [
       "array(['none', 'guarantor', 'co-applicant'], dtype=object)"
      ]
     },
     "execution_count": 30,
     "metadata": {},
     "output_type": "execute_result"
    }
   ],
   "source": [
    "data['other_debtors'].unique()"
   ]
  },
  {
   "cell_type": "code",
   "execution_count": 31,
   "id": "9d9390e8",
   "metadata": {},
   "outputs": [
    {
     "data": {
      "text/plain": [
       "array(['single male', 'female', 'divorced male', 'married male'],\n",
       "      dtype=object)"
      ]
     },
     "execution_count": 31,
     "metadata": {},
     "output_type": "execute_result"
    }
   ],
   "source": [
    "data['personal_status'].unique()"
   ]
  },
  {
   "cell_type": "code",
   "execution_count": 32,
   "id": "7eef77fb",
   "metadata": {},
   "outputs": [
    {
     "data": {
      "text/plain": [
       "array(['critical', 'repaid', 'delayed', 'fully repaid',\n",
       "       'fully repaid this bank'], dtype=object)"
      ]
     },
     "execution_count": 32,
     "metadata": {},
     "output_type": "execute_result"
    }
   ],
   "source": [
    "data['credit_history'].unique()"
   ]
  },
  {
   "cell_type": "code",
   "execution_count": 33,
   "id": "4ff8fd6b",
   "metadata": {},
   "outputs": [],
   "source": [
    "data=pd.get_dummies(data,columns=['personal_status','other_debtors','installment_plan','foreign_worker','housing',\n",
    "                                   'telephone'])"
   ]
  },
  {
   "cell_type": "code",
   "execution_count": 34,
   "id": "5817027d",
   "metadata": {},
   "outputs": [],
   "source": [
    "tab1=data['purpose'].value_counts()"
   ]
  },
  {
   "cell_type": "code",
   "execution_count": 35,
   "id": "9b2c182c",
   "metadata": {},
   "outputs": [],
   "source": [
    "data['purpose']=data['purpose'].map(tab1)"
   ]
  },
  {
   "cell_type": "code",
   "execution_count": 36,
   "id": "f73f771c",
   "metadata": {},
   "outputs": [],
   "source": [
    "tab2=data['property'].value_counts()"
   ]
  },
  {
   "cell_type": "code",
   "execution_count": 37,
   "id": "5be366d3",
   "metadata": {},
   "outputs": [],
   "source": [
    "data['property']=data['property'].map(tab2)"
   ]
  },
  {
   "cell_type": "code",
   "execution_count": 38,
   "id": "c5c0d1e4",
   "metadata": {},
   "outputs": [],
   "source": [
    "tab3=data['job'].value_counts()"
   ]
  },
  {
   "cell_type": "code",
   "execution_count": 39,
   "id": "e703575a",
   "metadata": {},
   "outputs": [],
   "source": [
    "data['job']=data['job'].map(tab3)"
   ]
  },
  {
   "cell_type": "code",
   "execution_count": 40,
   "id": "5d175556",
   "metadata": {},
   "outputs": [],
   "source": [
    "tab4=data['credit_history'].value_counts()"
   ]
  },
  {
   "cell_type": "code",
   "execution_count": 41,
   "id": "01c13064",
   "metadata": {},
   "outputs": [],
   "source": [
    "data['credit_history']=data['credit_history'].map(tab4)"
   ]
  },
  {
   "cell_type": "code",
   "execution_count": 42,
   "id": "cf24dd55",
   "metadata": {},
   "outputs": [
    {
     "data": {
      "text/plain": [
       "0      1\n",
       "1      2\n",
       "2      1\n",
       "3      1\n",
       "4      2\n",
       "      ..\n",
       "995    1\n",
       "996    1\n",
       "997    1\n",
       "998    2\n",
       "999    1\n",
       "Name: default, Length: 1000, dtype: int64"
      ]
     },
     "execution_count": 42,
     "metadata": {},
     "output_type": "execute_result"
    }
   ],
   "source": [
    "data['default']"
   ]
  },
  {
   "cell_type": "code",
   "execution_count": 43,
   "id": "734c7d6c",
   "metadata": {},
   "outputs": [],
   "source": [
    "# all the data has been encoded"
   ]
  },
  {
   "cell_type": "code",
   "execution_count": 44,
   "id": "09aea067",
   "metadata": {},
   "outputs": [],
   "source": [
    "from sklearn.linear_model import LogisticRegression\n",
    "from sklearn.tree import DecisionTreeClassifier\n",
    "from sklearn.ensemble import RandomForestClassifier\n",
    "from sklearn.ensemble import AdaBoostClassifier\n",
    "from sklearn.ensemble import GradientBoostingClassifier\n",
    "from xgboost import XGBClassifier\n",
    "from sklearn.neighbors import KNeighborsClassifier\n",
    "from sklearn.naive_bayes import GaussianNB"
   ]
  },
  {
   "cell_type": "code",
   "execution_count": 45,
   "id": "6172a217",
   "metadata": {},
   "outputs": [],
   "source": [
    "clf1=LogisticRegression()\n",
    "clf2=DecisionTreeClassifier()\n",
    "clf3=RandomForestClassifier()\n",
    "clf4=AdaBoostClassifier()\n",
    "clf5=GradientBoostingClassifier()\n",
    "clf6=XGBClassifier()\n",
    "clf7=KNeighborsClassifier()\n",
    "clf8=GaussianNB()"
   ]
  },
  {
   "cell_type": "code",
   "execution_count": 46,
   "id": "dcfb3409",
   "metadata": {},
   "outputs": [],
   "source": [
    "# input and output data\n",
    "inp=data.drop('default',axis=1)\n",
    "out=data['default']\n",
    "out=out.replace({2:0})\n",
    "#default 1"
   ]
  },
  {
   "cell_type": "code",
   "execution_count": 47,
   "id": "dd709483",
   "metadata": {},
   "outputs": [],
   "source": [
    "from sklearn.model_selection import train_test_split\n",
    "xtrain,xtest,ytrain,ytest=train_test_split(inp,out,test_size=.3,random_state=100)"
   ]
  },
  {
   "cell_type": "code",
   "execution_count": 48,
   "id": "0394f118",
   "metadata": {},
   "outputs": [],
   "source": [
    "from sklearn.model_selection import cross_val_score"
   ]
  },
  {
   "cell_type": "code",
   "execution_count": 49,
   "id": "1f3fe1e9",
   "metadata": {},
   "outputs": [
    {
     "name": "stdout",
     "output_type": "stream",
     "text": [
      "LG Bias score: 0.82 Bias Error: 0.18 Variance Error: 0.01\n",
      "DT Bias score: 0.75 Bias Error: 0.25 Variance Error: 0.04\n",
      "RF Bias score: 0.83 Bias Error: 0.17 Variance Error: 0.02\n",
      "ADB Bias score: 0.83 Bias Error: 0.17 Variance Error: 0.01\n",
      "GB Bias score: 0.84 Bias Error: 0.16 Variance Error: 0.01\n",
      "[15:56:23] WARNING: C:/Users/Administrator/workspace/xgboost-win64_release_1.5.1/src/learner.cc:1115: Starting in XGBoost 1.3.0, the default evaluation metric used with the objective 'binary:logistic' was changed from 'error' to 'logloss'. Explicitly set eval_metric if you'd like to restore the old behavior.\n",
      "[15:56:23] WARNING: C:/Users/Administrator/workspace/xgboost-win64_release_1.5.1/src/learner.cc:1115: Starting in XGBoost 1.3.0, the default evaluation metric used with the objective 'binary:logistic' was changed from 'error' to 'logloss'. Explicitly set eval_metric if you'd like to restore the old behavior.\n",
      "[15:56:23] WARNING: C:/Users/Administrator/workspace/xgboost-win64_release_1.5.1/src/learner.cc:1115: Starting in XGBoost 1.3.0, the default evaluation metric used with the objective 'binary:logistic' was changed from 'error' to 'logloss'. Explicitly set eval_metric if you'd like to restore the old behavior.\n",
      "[15:56:24] WARNING: C:/Users/Administrator/workspace/xgboost-win64_release_1.5.1/src/learner.cc:1115: Starting in XGBoost 1.3.0, the default evaluation metric used with the objective 'binary:logistic' was changed from 'error' to 'logloss'. Explicitly set eval_metric if you'd like to restore the old behavior.\n",
      "[15:56:24] WARNING: C:/Users/Administrator/workspace/xgboost-win64_release_1.5.1/src/learner.cc:1115: Starting in XGBoost 1.3.0, the default evaluation metric used with the objective 'binary:logistic' was changed from 'error' to 'logloss'. Explicitly set eval_metric if you'd like to restore the old behavior.\n",
      "XGB Bias score: 0.83 Bias Error: 0.17 Variance Error: 0.01\n",
      "KNN Bias score: 0.77 Bias Error: 0.23 Variance Error: 0.03\n",
      "GB Bias score: 0.76 Bias Error: 0.24 Variance Error: 0.03\n"
     ]
    }
   ],
   "source": [
    "for i,j in zip([clf1,clf2,clf3,clf4,clf5,clf6,clf7,clf8],['LG','DT','RF','ADB','GB','XGB','KNN','GB']):\n",
    "    score=cross_val_score(i,inp,out,cv=5,scoring='f1')\n",
    "    bs=np.round(score.mean(),2)\n",
    "    be=np.round(1-score.mean(),2)\n",
    "    ve=np.round(score.std()/score.mean(),2)\n",
    "    print(j, \"Bias score:\",bs, \"Bias Error:\",be, \"Variance Error:\",ve)\n",
    "    "
   ]
  },
  {
   "cell_type": "code",
   "execution_count": 50,
   "id": "779db0e2",
   "metadata": {},
   "outputs": [],
   "source": [
    "# the two model \n",
    "#1.Random Forest with Bias score=.84 and Variance Error=.01\n",
    "#2.GB Bias Score=.83 and Variance Error=.01"
   ]
  },
  {
   "cell_type": "code",
   "execution_count": 51,
   "id": "f4d5ff84",
   "metadata": {},
   "outputs": [],
   "source": [
    "#Hyper Parameter Tuning\n",
    "#1.Random Forest"
   ]
  },
  {
   "cell_type": "code",
   "execution_count": 52,
   "id": "e8a9b3bc",
   "metadata": {},
   "outputs": [],
   "source": [
    "from sklearn.model_selection import GridSearchCV\n",
    "rf_mod=RandomForestClassifier()\n",
    "parameter={'n_estimators':[10,15,20,40,60,70,80,90],\n",
    "           'criterion':['gini','entropy'],\n",
    "           'max_depth':[5,8,10,12,15,17,18,19,20]\n",
    "          }"
   ]
  },
  {
   "cell_type": "code",
   "execution_count": null,
   "id": "26da083a",
   "metadata": {},
   "outputs": [],
   "source": [
    "hyp_mod=GridSearchCV(rf_mod,param_grid=parameter,scoring='f1')\n",
    "tun_mod=hyp_mod.fit(xtrain,ytrain)"
   ]
  },
  {
   "cell_type": "code",
   "execution_count": 55,
   "id": "da9f5e0e",
   "metadata": {},
   "outputs": [
    {
     "data": {
      "text/plain": [
       "0.8432168779197221"
      ]
     },
     "execution_count": 55,
     "metadata": {},
     "output_type": "execute_result"
    }
   ],
   "source": [
    "tun_mod.best_score_\n"
   ]
  },
  {
   "cell_type": "code",
   "execution_count": 56,
   "id": "05f6083e",
   "metadata": {},
   "outputs": [
    {
     "data": {
      "text/plain": [
       "RandomForestClassifier(criterion='entropy', max_depth=20, n_estimators=80)"
      ]
     },
     "execution_count": 56,
     "metadata": {},
     "output_type": "execute_result"
    }
   ],
   "source": [
    "tun_mod.best_estimator_"
   ]
  },
  {
   "cell_type": "code",
   "execution_count": 57,
   "id": "fcb9c1c5",
   "metadata": {},
   "outputs": [
    {
     "data": {
      "text/plain": [
       "{'criterion': 'entropy', 'max_depth': 20, 'n_estimators': 80}"
      ]
     },
     "execution_count": 57,
     "metadata": {},
     "output_type": "execute_result"
    }
   ],
   "source": [
    "tun_mod.best_params_"
   ]
  },
  {
   "cell_type": "code",
   "execution_count": 58,
   "id": "6a1c5782",
   "metadata": {},
   "outputs": [],
   "source": [
    "final_model_RF=RandomForestClassifier(**tun_mod.best_params_)"
   ]
  },
  {
   "cell_type": "code",
   "execution_count": 59,
   "id": "42db3ec4",
   "metadata": {},
   "outputs": [
    {
     "data": {
      "text/plain": [
       "RandomForestClassifier(criterion='entropy', max_depth=20, n_estimators=80)"
      ]
     },
     "execution_count": 59,
     "metadata": {},
     "output_type": "execute_result"
    }
   ],
   "source": [
    "final_model_RF.fit(xtrain,ytrain)"
   ]
  },
  {
   "cell_type": "code",
   "execution_count": 60,
   "id": "00a0d408",
   "metadata": {},
   "outputs": [],
   "source": [
    "#####\n",
    "#2.GradientBoostingClassifier\n",
    "gbc_mod=GradientBoostingClassifier()\n",
    "parameter_gbc={'n_estimators':[5,8,10,20,30,40,50,60,70,80,85,90],\n",
    "                'max_depth':[5,8,10,12,15,17,20],\n",
    "                'learning_rate':[0.01,.1,1]\n",
    "              }"
   ]
  },
  {
   "cell_type": "code",
   "execution_count": 61,
   "id": "1d6401a4",
   "metadata": {},
   "outputs": [],
   "source": [
    "hyp_mod_gbc=GridSearchCV(gbc_mod,param_grid=parameter_gbc,scoring='f1')\n",
    "tun_mod_gbc=hyp_mod_gbc.fit(xtrain,ytrain)"
   ]
  },
  {
   "cell_type": "code",
   "execution_count": 62,
   "id": "90e1fcdb",
   "metadata": {},
   "outputs": [
    {
     "data": {
      "text/plain": [
       "0.8331865015691797"
      ]
     },
     "execution_count": 62,
     "metadata": {},
     "output_type": "execute_result"
    }
   ],
   "source": [
    "tun_mod_gbc.best_score_"
   ]
  },
  {
   "cell_type": "code",
   "execution_count": 63,
   "id": "26f7b6da",
   "metadata": {},
   "outputs": [
    {
     "data": {
      "text/plain": [
       "{'learning_rate': 0.1, 'max_depth': 8, 'n_estimators': 60}"
      ]
     },
     "execution_count": 63,
     "metadata": {},
     "output_type": "execute_result"
    }
   ],
   "source": [
    "tun_mod_gbc.best_params_"
   ]
  },
  {
   "cell_type": "code",
   "execution_count": 67,
   "id": "5f3113cd",
   "metadata": {},
   "outputs": [
    {
     "data": {
      "text/plain": [
       "GradientBoostingClassifier(max_depth=8, n_estimators=60)"
      ]
     },
     "execution_count": 67,
     "metadata": {},
     "output_type": "execute_result"
    }
   ],
   "source": [
    "final_model_GB=GradientBoostingClassifier(**tun_mod_gbc.best_params_)\n",
    "final_model_GB.fit(xtrain,ytrain)"
   ]
  },
  {
   "cell_type": "code",
   "execution_count": 79,
   "id": "70adfba3",
   "metadata": {},
   "outputs": [],
   "source": [
    "#############3\n",
    "#threshold \n",
    "from sklearn.metrics import classification_report"
   ]
  },
  {
   "cell_type": "code",
   "execution_count": 83,
   "id": "6b30a270",
   "metadata": {},
   "outputs": [
    {
     "name": "stdout",
     "output_type": "stream",
     "text": [
      "for threshold: 0.2\n",
      "              precision    recall  f1-score   support\n",
      "\n",
      "           0       0.00      0.00      0.00        81\n",
      "           1       0.73      1.00      0.84       219\n",
      "\n",
      "    accuracy                           0.73       300\n",
      "   macro avg       0.36      0.50      0.42       300\n",
      "weighted avg       0.53      0.73      0.62       300\n",
      "\n",
      "////////////////////////////////////\n",
      "for threshold: 0.3\n",
      "              precision    recall  f1-score   support\n",
      "\n",
      "           0       1.00      0.02      0.05        81\n",
      "           1       0.73      1.00      0.85       219\n",
      "\n",
      "    accuracy                           0.74       300\n",
      "   macro avg       0.87      0.51      0.45       300\n",
      "weighted avg       0.81      0.74      0.63       300\n",
      "\n",
      "////////////////////////////////////\n",
      "for threshold: 0.4\n",
      "              precision    recall  f1-score   support\n",
      "\n",
      "           0       0.73      0.14      0.23        81\n",
      "           1       0.75      0.98      0.85       219\n",
      "\n",
      "    accuracy                           0.75       300\n",
      "   macro avg       0.74      0.56      0.54       300\n",
      "weighted avg       0.75      0.75      0.68       300\n",
      "\n",
      "////////////////////////////////////\n",
      "for threshold: 0.5\n",
      "              precision    recall  f1-score   support\n",
      "\n",
      "           0       0.47      0.30      0.36        81\n",
      "           1       0.77      0.88      0.82       219\n",
      "\n",
      "    accuracy                           0.72       300\n",
      "   macro avg       0.62      0.59      0.59       300\n",
      "weighted avg       0.69      0.72      0.70       300\n",
      "\n",
      "////////////////////////////////////\n",
      "for threshold: 0.6\n",
      "              precision    recall  f1-score   support\n",
      "\n",
      "           0       0.44      0.46      0.45        81\n",
      "           1       0.80      0.78      0.79       219\n",
      "\n",
      "    accuracy                           0.69       300\n",
      "   macro avg       0.62      0.62      0.62       300\n",
      "weighted avg       0.70      0.69      0.70       300\n",
      "\n",
      "////////////////////////////////////\n",
      "for threshold: 0.7\n",
      "              precision    recall  f1-score   support\n",
      "\n",
      "           0       0.36      0.64      0.46        81\n",
      "           1       0.82      0.58      0.68       219\n",
      "\n",
      "    accuracy                           0.60       300\n",
      "   macro avg       0.59      0.61      0.57       300\n",
      "weighted avg       0.69      0.60      0.62       300\n",
      "\n",
      "////////////////////////////////////\n",
      "for threshold: 0.8\n",
      "              precision    recall  f1-score   support\n",
      "\n",
      "           0       0.34      0.88      0.49        81\n",
      "           1       0.89      0.37      0.53       219\n",
      "\n",
      "    accuracy                           0.51       300\n",
      "   macro avg       0.62      0.63      0.51       300\n",
      "weighted avg       0.74      0.51      0.52       300\n",
      "\n",
      "////////////////////////////////////\n",
      "for threshold: 0.9\n",
      "              precision    recall  f1-score   support\n",
      "\n",
      "           0       0.29      1.00      0.45        81\n",
      "           1       1.00      0.10      0.18       219\n",
      "\n",
      "    accuracy                           0.34       300\n",
      "   macro avg       0.65      0.55      0.32       300\n",
      "weighted avg       0.81      0.34      0.26       300\n",
      "\n",
      "////////////////////////////////////\n"
     ]
    }
   ],
   "source": [
    "# Random Forest\n",
    "ypred=final_model_RF.predict(xtest)\n",
    "yprob=final_model_RF.predict_proba(xtest)\n",
    "for i in [.2,.3,.4,.5,.6,.7,.8,.9]:\n",
    "    yprob1=yprob[:,1]\n",
    "    ypred_th=np.zeros([len(ytest),1])\n",
    "    ypred_th[yprob1>i]=1\n",
    "    print(\"for threshold:\",i)\n",
    "    print( classification_report(ytest,ypred_th))\n",
    "    print('////////////////////////////////////')"
   ]
  },
  {
   "cell_type": "code",
   "execution_count": 69,
   "id": "2acd4454",
   "metadata": {},
   "outputs": [],
   "source": [
    "# AT a threshold of 0.6 the Random Forest model is doing better for both classes whereas for class 1 , f1 score at\n",
    "# threshold 0.4 is maximum"
   ]
  },
  {
   "cell_type": "code",
   "execution_count": 68,
   "id": "1c55182f",
   "metadata": {},
   "outputs": [
    {
     "name": "stdout",
     "output_type": "stream",
     "text": [
      "for threshold: 0.2\n",
      "              precision    recall  f1-score   support\n",
      "\n",
      "           0       0.65      0.14      0.22        81\n",
      "           1       0.75      0.97      0.85       219\n",
      "\n",
      "    accuracy                           0.75       300\n",
      "   macro avg       0.70      0.55      0.54       300\n",
      "weighted avg       0.72      0.75      0.68       300\n",
      "\n",
      "////////////////////////////////////\n",
      "for threshold: 0.3\n",
      "              precision    recall  f1-score   support\n",
      "\n",
      "           0       0.62      0.20      0.30        81\n",
      "           1       0.76      0.95      0.85       219\n",
      "\n",
      "    accuracy                           0.75       300\n",
      "   macro avg       0.69      0.58      0.57       300\n",
      "weighted avg       0.72      0.75      0.70       300\n",
      "\n",
      "////////////////////////////////////\n",
      "for threshold: 0.4\n",
      "              precision    recall  f1-score   support\n",
      "\n",
      "           0       0.53      0.26      0.35        81\n",
      "           1       0.77      0.91      0.84       219\n",
      "\n",
      "    accuracy                           0.74       300\n",
      "   macro avg       0.65      0.59      0.59       300\n",
      "weighted avg       0.70      0.74      0.70       300\n",
      "\n",
      "////////////////////////////////////\n",
      "for threshold: 0.5\n",
      "              precision    recall  f1-score   support\n",
      "\n",
      "           0       0.56      0.35      0.43        81\n",
      "           1       0.79      0.90      0.84       219\n",
      "\n",
      "    accuracy                           0.75       300\n",
      "   macro avg       0.67      0.62      0.63       300\n",
      "weighted avg       0.73      0.75      0.73       300\n",
      "\n",
      "////////////////////////////////////\n",
      "for threshold: 0.6\n",
      "              precision    recall  f1-score   support\n",
      "\n",
      "           0       0.55      0.42      0.48        81\n",
      "           1       0.80      0.87      0.84       219\n",
      "\n",
      "    accuracy                           0.75       300\n",
      "   macro avg       0.68      0.65      0.66       300\n",
      "weighted avg       0.73      0.75      0.74       300\n",
      "\n",
      "////////////////////////////////////\n",
      "for threshold: 0.7\n",
      "              precision    recall  f1-score   support\n",
      "\n",
      "           0       0.52      0.49      0.51        81\n",
      "           1       0.82      0.83      0.82       219\n",
      "\n",
      "    accuracy                           0.74       300\n",
      "   macro avg       0.67      0.66      0.66       300\n",
      "weighted avg       0.74      0.74      0.74       300\n",
      "\n",
      "////////////////////////////////////\n",
      "for threshold: 0.8\n",
      "              precision    recall  f1-score   support\n",
      "\n",
      "           0       0.43      0.57      0.49        81\n",
      "           1       0.82      0.73      0.77       219\n",
      "\n",
      "    accuracy                           0.68       300\n",
      "   macro avg       0.63      0.65      0.63       300\n",
      "weighted avg       0.72      0.68      0.69       300\n",
      "\n",
      "////////////////////////////////////\n",
      "for threshold: 0.9\n",
      "              precision    recall  f1-score   support\n",
      "\n",
      "           0       0.40      0.68      0.50        81\n",
      "           1       0.84      0.62      0.71       219\n",
      "\n",
      "    accuracy                           0.64       300\n",
      "   macro avg       0.62      0.65      0.61       300\n",
      "weighted avg       0.72      0.64      0.66       300\n",
      "\n",
      "////////////////////////////////////\n"
     ]
    }
   ],
   "source": [
    "#GradientBoostingClassifier\n",
    "from sklearn.metrics import classification_report\n",
    "\n",
    "ypred=final_model_GB.predict(xtest)\n",
    "yprob=final_model_GB.predict_proba(xtest)\n",
    "for i in [.2,.3,.4,.5,.6,.7,.8,.9]:\n",
    "    yprob1=yprob[:,1]\n",
    "    ypred_th=np.zeros([len(ytest),1])\n",
    "    ypred_th[yprob1>i]=1\n",
    "    print(\"for threshold:\",i)\n",
    "    print( classification_report(ytest,ypred_th))\n",
    "    print('////////////////////////////////////')"
   ]
  },
  {
   "cell_type": "code",
   "execution_count": null,
   "id": "39c13dc2",
   "metadata": {},
   "outputs": [],
   "source": [
    "# AT a threshold of 0.6 the gradient boosting classifier F1-score is maximum 0.84  along with improved performance \n",
    "# of class 0"
   ]
  },
  {
   "cell_type": "code",
   "execution_count": 85,
   "id": "a1bae775",
   "metadata": {},
   "outputs": [],
   "source": [
    "##########\n",
    "#roc curve\n",
    "from sklearn.metrics import roc_curve\n",
    "clf1=LogisticRegression()\n",
    "clf2=DecisionTreeClassifier()\n",
    "clf3=RandomForestClassifier()\n",
    "clf4=AdaBoostClassifier()\n",
    "clf5=GradientBoostingClassifier()\n",
    "clf6=XGBClassifier()\n",
    "clf7=KNeighborsClassifier()\n",
    "clf8=GaussianNB()\n",
    "clf1.fit(xtrain,ytrain)\n",
    "ypred1=clf1.predict(xtest)\n",
    "yprob1=clf1.predict_proba(xtest)\n",
    "clf1_class0_prob=yprob1[:,1]\n",
    "clf2.fit(xtrain,ytrain)\n",
    "ypred2=clf2.predict(xtest)\n",
    "yprob2=clf2.predict_proba(xtest)\n",
    "clf2_class0_prob=yprob2[:,1]\n",
    "clf3.fit(xtrain,ytrain)\n",
    "ypred3=clf3.predict(xtest)\n",
    "yprob3=clf3.predict_proba(xtest)\n",
    "clf3_class0_prob=yprob3[:,1]\n",
    "clf4.fit(xtrain,ytrain)\n",
    "ypred4=clf4.predict(xtest)\n",
    "yprob4=clf4.predict_proba(xtest)\n",
    "clf4_class0_prob=yprob4[:,1]\n",
    "clf5.fit(xtrain,ytrain)\n",
    "ypred5=clf5.predict(xtest)\n",
    "yprob5=clf5.predict_proba(xtest)\n",
    "clf5_class0_prob=yprob5[:,1]\n",
    "#clf6.fit(xtrain,ytrain)\n",
    "#ypred6=clf6.predict(xtest)\n",
    "#yprob6=clf6.predict_proba(xtest)\n",
    "#clf6_class0_prob=yprob6[:,1]\n",
    "clf7.fit(xtrain,ytrain)\n",
    "ypred7=clf7.predict(xtest)\n",
    "yprob7=clf7.predict_proba(xtest)\n",
    "clf7_class0_prob=yprob7[:,1]\n",
    "clf8.fit(xtrain,ytrain)\n",
    "ypred8=clf8.predict(xtest)\n",
    "yprob8=clf8.predict_proba(xtest)\n",
    "clf8_class0_prob=yprob8[:,1]"
   ]
  },
  {
   "cell_type": "code",
   "execution_count": 86,
   "id": "ff7467c7",
   "metadata": {},
   "outputs": [],
   "source": [
    "fpr1,tpr1,th1=roc_curve(ytest,clf1_class0_prob)\n",
    "fpr2,tpr2,th2=roc_curve(ytest,clf2_class0_prob)\n",
    "fpr3,tpr3,th3=roc_curve(ytest,clf3_class0_prob)\n",
    "fpr4,tpr4,th1=roc_curve(ytest,clf4_class0_prob)\n",
    "fpr5,tpr5,th1=roc_curve(ytest,clf5_class0_prob)\n",
    "#fpr6,tpr6,th1=roc_curve(ytest,clf6_class0_prob)\n",
    "fpr7,tpr7,th1=roc_curve(ytest,clf7_class0_prob)\n",
    "fpr8,tpr8,th1=roc_curve(ytest,clf8_class0_prob)\n",
    "from sklearn.metrics import roc_auc_score,recall_score,precision_score,accuracy_score"
   ]
  },
  {
   "cell_type": "code",
   "execution_count": 87,
   "id": "6d5ea67f",
   "metadata": {},
   "outputs": [
    {
     "data": {
      "text/plain": [
       "Text(0.5, 1.0, 'ROC')"
      ]
     },
     "execution_count": 87,
     "metadata": {},
     "output_type": "execute_result"
    },
    {
     "data": {
      "image/png": "[encoded data removed]",
      "text/plain": [
       "<Figure size 1440x720 with 1 Axes>"
      ]
     },
     "metadata": {
      "needs_background": "light"
     },
     "output_type": "display_data"
    }
   ],
   "source": [
    "plt.figure(figsize=(20,10))\n",
    "plt.plot(fpr1,tpr1,label=['Logistic Regression','AUC Score: {:.3f}'.format(roc_auc_score(ytest,clf1_class0_prob)),'Accuracy score:{:.3f}'.format(accuracy_score(ytest,ypred1)),'Sensitivity: {:.3f}'.format(recall_score(ytest,ypred1))])\n",
    "plt.legend(loc='upper left')\n",
    "plt.plot(fpr2,tpr2,label=['Decision Tree','AUC Score: {:.3f}'.format(roc_auc_score(ytest,clf2_class0_prob)),'Accuracy score:{:.3f}'.format(accuracy_score(ytest,ypred2)),'Sensitivity: {:.3f}'.format(recall_score(ytest,ypred2))])\n",
    "plt.legend()\n",
    "\n",
    "plt.plot(fpr3,tpr3,label=['Random Forest','AUC Score: {:.3f}'.format(roc_auc_score(ytest,clf3_class0_prob)),'Accuracy score:{:.3f}'.format(accuracy_score(ytest,ypred3)),'Sensitivity: {:.3f}'.format(recall_score(ytest,ypred3))])\n",
    "plt.legend()\n",
    "plt.plot(fpr4,tpr4,label=['AdaBoost','AUC Score: {:.3f}'.format(roc_auc_score(ytest,clf4_class0_prob)),'Accuracy score:{:.3f}'.format(accuracy_score(ytest,ypred4)),'Sensitivity: {:.3f}'.format(recall_score(ytest,ypred4))])\n",
    "plt.legend()\n",
    "plt.plot(fpr5,tpr5,label=['GradientBoost','AUC Score: {:.3f}'.format(roc_auc_score(ytest,clf5_class0_prob)),'Accuracy score:{:.3f}'.format(accuracy_score(ytest,ypred5)),'Sensitivity: {:.3f}'.format(recall_score(ytest,ypred5))])\n",
    "#plt.plot(fpr6,tpr6)\n",
    "plt.plot(fpr7,tpr7,label=['KNeighbors','AUC Score: {:.3f}'.format(roc_auc_score(ytest,clf7_class0_prob)),'Accuracy score:{:.3f}'.format(accuracy_score(ytest,ypred7)),'Sensitivity: {:.3f}'.format(recall_score(ytest,ypred7))])\n",
    "plt.legend()\n",
    "plt.plot(fpr8,tpr8,label=['GaussianNB','AUC Score: {:.3f}'.format(roc_auc_score(ytest,clf8_class0_prob)),'Accuracy score:{:.3f}'.format(accuracy_score(ytest,ypred8)),'Sensitivity: {:.3f}'.format(recall_score(ytest,ypred8))])\n",
    "plt.legend()\n",
    "plt.xlabel(\"FPR\")\n",
    "plt.ylabel(\"TPR\")\n",
    "plt.title(\"ROC\")"
   ]
  },
  {
   "cell_type": "code",
   "execution_count": null,
   "id": "a25b4348",
   "metadata": {},
   "outputs": [],
   "source": []
  }
 ],
 "metadata": {
  "kernelspec": {
   "display_name": "Python 3",
   "language": "python",
   "name": "python3"
  },
  "language_info": {
   "codemirror_mode": {
    "name": "ipython",
    "version": 3
   },
   "file_extension": ".py",
   "mimetype": "text/x-python",
   "name": "python",
   "nbconvert_exporter": "python",
   "pygments_lexer": "ipython3",
   "version": "3.8.8"
  }
 },
 "nbformat": 4,
 "nbformat_minor": 5
}
